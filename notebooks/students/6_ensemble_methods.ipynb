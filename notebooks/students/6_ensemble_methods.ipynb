{
 "cells": [
  {
   "cell_type": "code",
   "execution_count": 12,
   "id": "0925915e",
   "metadata": {},
   "outputs": [],
   "source": [
    "# set up working catalog\n",
    "import sys\n",
    "from pathlib import Path\n",
    "project_path = str(Path().cwd().parent.parent.resolve())\n",
    "if project_path not in sys.path:\n",
    "    sys.path.append(project_path)\n",
    "\n",
    "# imports\n",
    "from common.utils import get_data, get_preprocessor\n",
    "\n",
    "from imblearn.over_sampling import SMOTE\n",
    "from imblearn.pipeline import Pipeline as ImbPipeline\n",
    "from sklearn.model_selection import train_test_split,  cross_val_score\n",
    "from sklearn.ensemble import GradientBoostingClassifier, StackingClassifier\n",
    "from sklearn.ensemble import RandomForestClassifier, GradientBoostingClassifier, VotingClassifier\n",
    "from sklearn.linear_model import LogisticRegression\n",
    "from sklearn.svm import SVC\n",
    "from sklearn.metrics import accuracy_score"
   ]
  },
  {
   "cell_type": "code",
   "execution_count": 13,
   "id": "35c6ccc8",
   "metadata": {},
   "outputs": [],
   "source": [
    "data = get_data()\n",
    "X = data.drop(columns=[\"Target\"])\n",
    "y = data[\"Target\"]\n",
    "\n",
    "X_train, X_test, y_train, y_test = train_test_split(X, y, train_size= 0.8, random_state=6)\n",
    "\n",
    "numerical_column_names = X.select_dtypes(include=[\"number\"]).columns.tolist()\n",
    "categorical_column_names = X.select_dtypes(include=[\"object\"]).columns.tolist()\n",
    "\n",
    "smt = SMOTE(random_state=16)\n",
    "\n",
    "def get_pipeline(classifier):\n",
    "    return ImbPipeline([\n",
    "        (\"preprocessing\", get_preprocessor(numerical_column_names, categorical_column_names)),\n",
    "        # (\"sampling\", RandomOverSampler(random_state=16)),\n",
    "        (\"smt\", smt),\n",
    "        (\"classifier\", classifier)\n",
    "    ])"
   ]
  },
  {
   "cell_type": "code",
   "execution_count": 14,
   "id": "56e0e06f",
   "metadata": {},
   "outputs": [],
   "source": [
    "rfc = get_pipeline(RandomForestClassifier(n_estimators=300))\n",
    "lr = get_pipeline(LogisticRegression(max_iter=1000))\n",
    "svc = get_pipeline(SVC(probability=True))\n",
    "\n",
    "estimators = [(\"rfc\", rfc), (\"lr\", lr), (\"svc\", svc)]"
   ]
  },
  {
   "cell_type": "code",
   "execution_count": 15,
   "id": "2576ac12",
   "metadata": {},
   "outputs": [],
   "source": [
    "votingClassifier = VotingClassifier(\n",
    "    estimators=estimators,\n",
    "    voting=\"hard\"           # classify based on majority class label\n",
    ")"
   ]
  },
  {
   "cell_type": "code",
   "execution_count": 16,
   "id": "55cf8c2c",
   "metadata": {},
   "outputs": [
    {
     "name": "stdout",
     "output_type": "stream",
     "text": [
      "Accuracy: 0.7710   (+/- 0.0022)   [Random Forst Classifier]\n",
      "Accuracy: 0.7570   (+/- 0.0045)   [Logistic Regression]\n",
      "Accuracy: 0.7615   (+/- 0.0032)   [SVC]\n",
      "Accuracy: 0.7715   (+/- 0.0069)   [Ensemble]\n"
     ]
    }
   ],
   "source": [
    "for classifier, label in zip([rfc, lr, svc, votingClassifier], \n",
    "    [\"Random Forst Classifier\", \"Logistic Regression\", \"SVC\", 'Ensemble']):\n",
    "    scores = cross_val_score(classifier, X, y, scoring=\"accuracy\", cv=3)\n",
    "    print(\"Accuracy: %0.4f   (+/- %0.4f)   [%s]\" % (scores.mean(), scores.std(), label))"
   ]
  },
  {
   "cell_type": "code",
   "execution_count": 17,
   "id": "a5329d93",
   "metadata": {},
   "outputs": [
    {
     "name": "stdout",
     "output_type": "stream",
     "text": [
      "Accuracy: 0.7684\n"
     ]
    }
   ],
   "source": [
    "final_estimator = GradientBoostingClassifier(\n",
    "    n_estimators=100, \n",
    "    learning_rate=0.01,\n",
    "    subsample=0.8, \n",
    "    min_samples_leaf=2, \n",
    "    max_features=\"sqrt\"\n",
    ")\n",
    "\n",
    "reg = StackingClassifier(\n",
    "    estimators=estimators,\n",
    "    final_estimator=final_estimator\n",
    ")\n",
    "\n",
    "reg.fit(X_train, y_train)\n",
    "y_pred = reg.predict(X_test)\n",
    "print(f\"Accuracy: {accuracy_score(y_test, y_pred):.4f}\")"
   ]
  }
 ],
 "metadata": {
  "kernelspec": {
   "display_name": "msid3",
   "language": "python",
   "name": "python3"
  },
  "language_info": {
   "codemirror_mode": {
    "name": "ipython",
    "version": 3
   },
   "file_extension": ".py",
   "mimetype": "text/x-python",
   "name": "python",
   "nbconvert_exporter": "python",
   "pygments_lexer": "ipython3",
   "version": "3.11.11"
  }
 },
 "nbformat": 4,
 "nbformat_minor": 5
}
