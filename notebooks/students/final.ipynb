{
 "cells": [
  {
   "cell_type": "code",
   "execution_count": 2,
   "id": "427f55f4",
   "metadata": {},
   "outputs": [],
   "source": [
    "# set up working catalog\n",
    "import sys\n",
    "from pathlib import Path\n",
    "project_path = str(Path().cwd().parent.parent.resolve())\n",
    "if project_path not in sys.path:\n",
    "    sys.path.append(project_path)\n",
    "    \n",
    "# imports\n",
    "from common.utils import get_datasets, X_TRAIN, Y_TRAIN, X_TEST, Y_TEST\n",
    "\n",
    "from sklearn.pipeline import Pipeline\n",
    "from sklearn.preprocessing import PolynomialFeatures\n",
    "from sklearn.linear_model import LogisticRegression\n",
    "from sklearn.ensemble import RandomForestClassifier, GradientBoostingClassifier, VotingClassifier, StackingClassifier\n",
    "from sklearn.svm import SVC\n",
    "from sklearn.metrics import accuracy_score"
   ]
  },
  {
   "cell_type": "code",
   "execution_count": 3,
   "id": "81b607de",
   "metadata": {},
   "outputs": [],
   "source": [
    "datasets = get_datasets(n_splits = 5)"
   ]
  },
  {
   "cell_type": "code",
   "execution_count": 4,
   "id": "9b555b9a",
   "metadata": {},
   "outputs": [],
   "source": [
    "estimators = [\n",
    "    (\"Logistic deg 2 l1\", Pipeline([\n",
    "        (\"poly\", PolynomialFeatures(degree=2, include_bias=False)), \n",
    "        (\"clf\", LogisticRegression(C=1, max_iter=200, penalty=\"l1\", solver=\"liblinear\"))\n",
    "    ])),\n",
    "    (\"Logistic deg 2 l2\", Pipeline([\n",
    "        (\"poly\", PolynomialFeatures(degree=2, include_bias=False)), \n",
    "        (\"clf\", LogisticRegression(C=0.1, max_iter=200, penalty=\"l2\", solver=\"lbfgs\"))\n",
    "    ])),\n",
    "    (\"Logistic l1\", LogisticRegression(C=1, max_iter=200, penalty=\"l1\", solver=\"liblinear\")),\n",
    "    (\"Logistic l2\", LogisticRegression(C=0.1, max_iter=200, penalty=\"l2\", solver=\"lbfgs\")),\n",
    "    (\"RFC 1\", RandomForestClassifier(bootstrap=False, max_depth=None, min_samples_leaf=2, min_samples_split=3, n_estimators=200)),\n",
    "    (\"RFC 2\", RandomForestClassifier(bootstrap=False, max_depth=50, min_samples_leaf=1, min_samples_split=2, n_estimators=500)),\n",
    "    (\"RFC 3\", RandomForestClassifier(bootstrap=False, max_depth=30, min_samples_leaf=1, min_samples_split=2, n_estimators=500)),\n",
    "    (\"SVC 1\", SVC(C=1, gamma=\"scale\")),\n",
    "    (\"SVC 2\", SVC(C=10, gamma=\"scale\")),\n",
    "    (\"SVC 3\", SVC(C=10, gamma=\"auto\"))\n",
    "]"
   ]
  },
  {
   "cell_type": "code",
   "execution_count": 5,
   "id": "df4938e9",
   "metadata": {},
   "outputs": [],
   "source": [
    "votingClassifier = VotingClassifier(\n",
    "    estimators=estimators,\n",
    "    voting=\"hard\"           # classify based on majority class label\n",
    ")"
   ]
  },
  {
   "cell_type": "code",
   "execution_count": 6,
   "id": "91829e6b",
   "metadata": {},
   "outputs": [
    {
     "name": "stdout",
     "output_type": "stream",
     "text": [
      "Accuracy score: 0.7672316384180791\n",
      "Accuracy score: 0.7943502824858757\n",
      "Accuracy score: 0.7887005649717514\n",
      "Accuracy score: 0.7853107344632768\n",
      "Accuracy score: 0.7794117647058824\n"
     ]
    }
   ],
   "source": [
    "for dataset in datasets:\n",
    "    votingClassifier.fit(dataset[X_TRAIN], dataset[Y_TRAIN])\n",
    "    \n",
    "    y_pred = votingClassifier.predict(dataset[X_TEST])\n",
    "    \n",
    "    print(f\"Accuracy score: {accuracy_score(dataset[Y_TEST], y_pred)}\")"
   ]
  },
  {
   "cell_type": "code",
   "execution_count": 8,
   "id": "790d4ee0",
   "metadata": {},
   "outputs": [
    {
     "name": "stdout",
     "output_type": "stream",
     "text": [
      "Accuracy: 0.7615819209039548\n",
      "Accuracy: 0.7898305084745763\n",
      "Accuracy: 0.7819209039548023\n",
      "Accuracy: 0.7875706214689265\n",
      "Accuracy: 0.7794117647058824\n"
     ]
    }
   ],
   "source": [
    "for dataset in datasets:\n",
    "    final_estimator = GradientBoostingClassifier(\n",
    "        learning_rate=0.01,\n",
    "        subsample=0.8, \n",
    "        min_samples_leaf=2, \n",
    "        max_features=\"sqrt\"\n",
    "    )\n",
    "\n",
    "    reg = StackingClassifier(\n",
    "        estimators=estimators,\n",
    "        final_estimator=final_estimator\n",
    "    )\n",
    "\n",
    "    reg.fit(dataset[X_TRAIN], dataset[Y_TRAIN])\n",
    "    y_pred = reg.predict(dataset[X_TEST])\n",
    "    print(f\"Accuracy: {accuracy_score(dataset[Y_TEST], y_pred)}\")"
   ]
  }
 ],
 "metadata": {
  "kernelspec": {
   "display_name": "msid3",
   "language": "python",
   "name": "python3"
  },
  "language_info": {
   "codemirror_mode": {
    "name": "ipython",
    "version": 3
   },
   "file_extension": ".py",
   "mimetype": "text/x-python",
   "name": "python",
   "nbconvert_exporter": "python",
   "pygments_lexer": "ipython3",
   "version": "3.11.11"
  }
 },
 "nbformat": 4,
 "nbformat_minor": 5
}
