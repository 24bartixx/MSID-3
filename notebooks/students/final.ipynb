{
 "cells": [
  {
   "cell_type": "code",
   "execution_count": 1,
   "id": "427f55f4",
   "metadata": {},
   "outputs": [],
   "source": [
    "# set up working catalog\n",
    "import sys\n",
    "from pathlib import Path\n",
    "project_path = str(Path().cwd().parent.parent.resolve())\n",
    "if project_path not in sys.path:\n",
    "    sys.path.append(project_path)\n",
    "    \n",
    "# import \n",
    "# imports\n",
    "from common.utils import get_datasets\n",
    "\n",
    "from sklearn.pipeline import Pipeline\n",
    "from sklearn.preprocessing import PolynomialFeatures\n",
    "from sklearn.linear_model import LogisticRegression\n",
    "from sklearn.ensemble import RandomForestClassifier, GradientBoostingClassifier, VotingClassifier\n",
    "from sklearn.svm import SVC"
   ]
  },
  {
   "cell_type": "code",
   "execution_count": null,
   "id": "9b555b9a",
   "metadata": {},
   "outputs": [],
   "source": [
    "dataset = get_datasets(n_splits = 5)\n",
    "\n",
    "estimators = [\n",
    "    Pipeline([\n",
    "        (\"poly\", PolynomialFeatures(degree=2, include_bias=False)), \n",
    "        (\"clf\", LogisticRegression(C=1, max_iter=200, penalty=\"l1\", solver=\"liblinear\"))\n",
    "    ]),\n",
    "    Pipeline([\n",
    "        (\"poly\", PolynomialFeatures(degree=2, include_bias=False)), \n",
    "        (\"clf\", LogisticRegression(C=0.1, max_iter=200, penalty=\"l2\", solver=\"liblinear\"))\n",
    "    ]),\n",
    "    LogisticRegression(C=1, max_iter=200, penalty=\"l1\", solver=\"liblinear\"),\n",
    "    LogisticRegression(C=0.1, max_iter=200, penalty=\"l2\", solver=\"liblinear\"),\n",
    "    RandomForestClassifier(bootstrap=False, max_depth=None, min_samples_leaf=2, min_samples_split=3, n_estimators=200),\n",
    "    RandomForestClassifier(bootstrap=False, max_depth=50, min_samples_leaf=1, min_samples_split=2, n_estimators=500),\n",
    "    RandomForestClassifier(bootstrap=False, max_depth=30, min_samples_leaf=1, min_samples_split=2, n_estimators=500),\n",
    "    SVC(C=1, gamma=\"scale\"),\n",
    "    SVC(C=10, gamma=\"scale\"),\n",
    "    SVC(C=10, gamma=\"auto\")\n",
    "]"
   ]
  },
  {
   "cell_type": "code",
   "execution_count": 3,
   "id": "df4938e9",
   "metadata": {},
   "outputs": [],
   "source": [
    "votingClassifier = VotingClassifier(\n",
    "    estimators=estimators,\n",
    "    voting=\"hard\"           # classify based on majority class label\n",
    ")"
   ]
  }
 ],
 "metadata": {
  "kernelspec": {
   "display_name": "msid3",
   "language": "python",
   "name": "python3"
  },
  "language_info": {
   "codemirror_mode": {
    "name": "ipython",
    "version": 3
   },
   "file_extension": ".py",
   "mimetype": "text/x-python",
   "name": "python",
   "nbconvert_exporter": "python",
   "pygments_lexer": "ipython3",
   "version": "3.11.11"
  }
 },
 "nbformat": 4,
 "nbformat_minor": 5
}
