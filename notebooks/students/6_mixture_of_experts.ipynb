{
 "cells": [
  {
   "cell_type": "code",
   "execution_count": 7,
   "id": "4a43d0c9",
   "metadata": {},
   "outputs": [],
   "source": [
    "# set up working catalog\n",
    "import sys\n",
    "from pathlib import Path\n",
    "project_path = str(Path().cwd().parent.parent.resolve())\n",
    "if project_path not in sys.path:\n",
    "    sys.path.append(project_path)\n",
    "\n",
    "# imports\n",
    "from common.utils import get_datasets, X_TRAIN, Y_TRAIN, X_TEST, Y_TEST\n",
    "from common.mixture_of_experts import MixtureOfExperts\n",
    "\n",
    "from sklearn.linear_model import LogisticRegression\n",
    "from sklearn.svm import SVC\n",
    "from sklearn.ensemble import RandomForestClassifier\n",
    "from sklearn.metrics import accuracy_score"
   ]
  },
  {
   "cell_type": "code",
   "execution_count": 8,
   "id": "fce9be90",
   "metadata": {},
   "outputs": [],
   "source": [
    "datasets = get_datasets(n_splits=5, should_label_encode=True)"
   ]
  },
  {
   "cell_type": "code",
   "execution_count": null,
   "id": "c495b839",
   "metadata": {},
   "outputs": [
    {
     "name": "stdout",
     "output_type": "stream",
     "text": [
      "Accuracy: 0.7604519774011299\n",
      "Accuracy: 0.7875706214689265\n",
      "Accuracy: 0.784180790960452\n",
      "Accuracy: 0.7728813559322034\n",
      "Accuracy: 0.7613122171945701\n"
     ]
    }
   ],
   "source": [
    "for dataset in datasets:\n",
    "    mixtureOfExperts = MixtureOfExperts(\n",
    "        experts=[LogisticRegression(max_iter=300), SVC(probability=True), RandomForestClassifier()]\n",
    "    )\n",
    "    \n",
    "    mixtureOfExperts.fit(dataset[X_TRAIN], dataset[Y_TRAIN])\n",
    "    y_pred = mixtureOfExperts.predict(dataset[X_TEST])\n",
    "    \n",
    "    print(f\"Accuracy: {accuracy_score(dataset[Y_TEST], y_pred)}\")"
   ]
  },
  {
   "cell_type": "code",
   "execution_count": null,
   "id": "6414ee81",
   "metadata": {},
   "outputs": [
    {
     "name": "stdout",
     "output_type": "stream",
     "text": [
      "Accuracy: 0.7785310734463277\n",
      "Accuracy: 0.7774011299435029\n",
      "Accuracy: 0.7728813559322034\n",
      "Accuracy: 0.7819209039548023\n",
      "Accuracy: 0.7703619909502263\n"
     ]
    }
   ],
   "source": [
    "for dataset in datasets:\n",
    "    mixtureOfExperts = MixtureOfExperts(\n",
    "        experts=[LogisticRegression(max_iter=250) for _ in range(5)]\n",
    "    )\n",
    "    \n",
    "    mixtureOfExperts.fit(dataset[X_TRAIN], dataset[Y_TRAIN])\n",
    "    y_pred = mixtureOfExperts.predict(dataset[X_TEST])\n",
    "    \n",
    "    print(f\"Accuracy: {accuracy_score(dataset[Y_TEST], y_pred)}\")"
   ]
  }
 ],
 "metadata": {
  "kernelspec": {
   "display_name": "msid3",
   "language": "python",
   "name": "python3"
  },
  "language_info": {
   "codemirror_mode": {
    "name": "ipython",
    "version": 3
   },
   "file_extension": ".py",
   "mimetype": "text/x-python",
   "name": "python",
   "nbconvert_exporter": "python",
   "pygments_lexer": "ipython3",
   "version": "3.11.11"
  }
 },
 "nbformat": 4,
 "nbformat_minor": 5
}
