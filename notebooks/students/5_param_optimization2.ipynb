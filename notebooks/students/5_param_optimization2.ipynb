{
 "cells": [
  {
   "cell_type": "code",
   "execution_count": 6,
   "id": "93d4691e",
   "metadata": {},
   "outputs": [],
   "source": [
    "# set up working catalog\n",
    "import sys\n",
    "from pathlib import Path\n",
    "project_path = str(Path().cwd().parent.parent.resolve())\n",
    "if project_path not in sys.path:\n",
    "    sys.path.append(project_path)\n",
    "    \n",
    "\n",
    "# imports\n",
    "from common.utils import get_data, get_preprocessor\n",
    "\n",
    "from sklearn.model_selection import train_test_split, GridSearchCV\n",
    "from sklearn.calibration import LabelEncoder\n",
    "from sklearn.ensemble import RandomForestClassifier\n",
    "from sklearn.pipeline import Pipeline\n",
    "from sklearn.neighbors import KNeighborsClassifier\n",
    "from sklearn.metrics import classification_report"
   ]
  },
  {
   "cell_type": "code",
   "execution_count": 7,
   "id": "40f84598",
   "metadata": {},
   "outputs": [],
   "source": [
    "data = get_data()\n",
    "\n",
    "X = data.drop(columns=[\"Target\"])\n",
    "y = data[\"Target\"]\n",
    "\n",
    "labelEncoder = LabelEncoder()\n",
    "y_encoded = labelEncoder.fit_transform(y)\n",
    "\n",
    "numerical_column_names = X.select_dtypes(include=[\"number\"]).columns.tolist()\n",
    "categorical_column_names = X.select_dtypes(include=[\"object\"]).columns.tolist()\n",
    "\n",
    "preprocessor = get_preprocessor(numerical_column_names, categorical_column_names)\n",
    "\n",
    "X_train, X_test, y_train, y_test = train_test_split(X, y, test_size=0.2, random_state=6)"
   ]
  },
  {
   "cell_type": "code",
   "execution_count": 8,
   "id": "27e014d6",
   "metadata": {},
   "outputs": [],
   "source": [
    "def run_grid_search(model, candidate_params, cv = 5):\n",
    "    \n",
    "    pipeline = Pipeline([\n",
    "        (\"preprocessing\", preprocessor),\n",
    "        (\"classifier\", model)\n",
    "    ])\n",
    "    \n",
    "    grid_search = GridSearchCV(pipeline, candidate_params, cv=cv, n_jobs=-1)\n",
    "    grid_search.fit(X_train, y_train)\n",
    "\n",
    "    y_pred = grid_search.predict(X_test)\n",
    "    \n",
    "    return grid_search.best_params_, classification_report(y_test, y_pred, target_names=labelEncoder.classes_)"
   ]
  },
  {
   "cell_type": "code",
   "execution_count": 9,
   "id": "bb278ed1",
   "metadata": {},
   "outputs": [
    {
     "name": "stdout",
     "output_type": "stream",
     "text": [
      "Best params:\n",
      "\tclassifier__max_depth: None\n",
      "\tclassifier__n_estimators: 300\n",
      "\n",
      "Classification:\n",
      "              precision    recall  f1-score   support\n",
      "\n",
      "     Dropout       0.81      0.75      0.78       288\n",
      "    Enrolled       0.57      0.32      0.41       154\n",
      "    Graduate       0.78      0.93      0.85       443\n",
      "\n",
      "    accuracy                           0.76       885\n",
      "   macro avg       0.72      0.67      0.68       885\n",
      "weighted avg       0.75      0.76      0.75       885\n",
      "\n"
     ]
    }
   ],
   "source": [
    "model = RandomForestClassifier(random_state=6)\n",
    "\n",
    "candidate_params = {\n",
    "    \"classifier__n_estimators\": [50, 100, 200, 300, 500],\n",
    "    \"classifier__max_depth\": [None, 10, 20, 30]\n",
    "    # \"classifier__min_samples_split\": [2, 5, 10],\n",
    "    # \"classifier__min_samples_leaf\": [1, 2, 4]\n",
    "}\n",
    "\n",
    "best_params, classification = run_grid_search(model, candidate_params)\n",
    "print(\"Best params:\")\n",
    "for param, value in best_params.items():\n",
    "    print(f\"\\t{param}: {value}\")\n",
    "print(\"\\nClassification:\")\n",
    "print(classification)"
   ]
  },
  {
   "cell_type": "code",
   "execution_count": 10,
   "id": "b47aaede",
   "metadata": {},
   "outputs": [
    {
     "name": "stderr",
     "output_type": "stream",
     "text": [
      "c:\\ProgramData\\anaconda3\\envs\\msid3\\Lib\\site-packages\\sklearn\\model_selection\\_search.py:1108: UserWarning: One or more of the test scores are non-finite: [       nan 0.6919989         nan 0.70641567        nan 0.71234787\n",
      "        nan 0.71460816        nan 0.71461015        nan 0.71545881\n",
      "        nan 0.70924652        nan 0.70387689        nan 0.69850766\n",
      "        nan 0.69285475        nan 0.68239717        nan 0.65922654]\n",
      "  warnings.warn(\n"
     ]
    },
    {
     "name": "stdout",
     "output_type": "stream",
     "text": [
      "Best params:\n",
      "\tclassifier__n_neighbors: 15\n",
      "\tclassifier__p: 2\n",
      "\n",
      "Classification:\n",
      "              precision    recall  f1-score   support\n",
      "\n",
      "     Dropout       0.82      0.65      0.73       288\n",
      "    Enrolled       0.40      0.21      0.27       154\n",
      "    Graduate       0.72      0.93      0.81       443\n",
      "\n",
      "    accuracy                           0.72       885\n",
      "   macro avg       0.65      0.60      0.60       885\n",
      "weighted avg       0.70      0.72      0.69       885\n",
      "\n"
     ]
    }
   ],
   "source": [
    "model = KNeighborsClassifier()\n",
    "\n",
    "candidate_params = {\n",
    "    \"classifier__n_neighbors\": [3, 5, 7, 9, 11, 15, 31, 45, 61, 75, 101, 257],\n",
    "    \"classifier__p\": [1, 2]          # 1 = manhattan, 2 = euclidean\n",
    "}\n",
    "\n",
    "best_params, classification = run_grid_search(model, candidate_params)\n",
    "print(\"Best params:\")\n",
    "for param, value in best_params.items():\n",
    "    print(f\"\\t{param}: {value}\")\n",
    "print(\"\\nClassification:\")\n",
    "print(classification)"
   ]
  },
  {
   "cell_type": "markdown",
   "id": "41fe9768",
   "metadata": {},
   "source": [
    "# Classification metrics\n",
    "* accuracy - (TP+TN) / (TP+TN+FP+FN)\n",
    "* precision - TP / (TP+FP)\n",
    "* recall - TP / (TP+FN)"
   ]
  }
 ],
 "metadata": {
  "kernelspec": {
   "display_name": "msid3",
   "language": "python",
   "name": "python3"
  },
  "language_info": {
   "codemirror_mode": {
    "name": "ipython",
    "version": 3
   },
   "file_extension": ".py",
   "mimetype": "text/x-python",
   "name": "python",
   "nbconvert_exporter": "python",
   "pygments_lexer": "ipython3",
   "version": "3.11.11"
  }
 },
 "nbformat": 4,
 "nbformat_minor": 5
}
