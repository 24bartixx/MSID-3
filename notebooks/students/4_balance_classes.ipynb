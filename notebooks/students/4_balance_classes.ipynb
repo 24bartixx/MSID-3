{
 "cells": [
  {
   "cell_type": "code",
   "execution_count": 75,
   "id": "7cdf85bc",
   "metadata": {},
   "outputs": [],
   "source": [
    "# set up working catalog\n",
    "import sys\n",
    "from pathlib import Path\n",
    "project_path = str(Path().cwd().parent.parent.resolve())\n",
    "if project_path not in sys.path:\n",
    "    sys.path.append(project_path)\n",
    "    \n",
    "# imports\n",
    "from common.utils import get_data, get_preprocessor\n",
    "\n",
    "from imblearn.over_sampling import RandomOverSampler\n",
    "from imblearn.under_sampling import RandomUnderSampler\n",
    "from sklearn.pipeline import Pipeline\n",
    "from sklearn.ensemble import RandomForestClassifier\n",
    "from sklearn.model_selection import train_test_split\n",
    "from sklearn.metrics import classification_report, f1_score, precision_score, recall_score"
   ]
  },
  {
   "cell_type": "code",
   "execution_count": 76,
   "id": "93bef715",
   "metadata": {},
   "outputs": [
    {
     "data": {
      "text/plain": [
       "Target\n",
       "Graduate    2209\n",
       "Dropout     1421\n",
       "Enrolled     794\n",
       "Name: count, dtype: int64"
      ]
     },
     "execution_count": 76,
     "metadata": {},
     "output_type": "execute_result"
    }
   ],
   "source": [
    "data = get_data()\n",
    "\n",
    "X = data.drop(columns=[\"Target\"])\n",
    "y = data[\"Target\"]\n",
    "\n",
    "y.value_counts()"
   ]
  },
  {
   "cell_type": "code",
   "execution_count": 77,
   "id": "d0e8b86c",
   "metadata": {},
   "outputs": [
    {
     "data": {
      "text/plain": [
       "Target\n",
       "Dropout     2209\n",
       "Graduate    2209\n",
       "Enrolled    2209\n",
       "Name: count, dtype: int64"
      ]
     },
     "execution_count": 77,
     "metadata": {},
     "output_type": "execute_result"
    }
   ],
   "source": [
    "ros = RandomOverSampler(random_state=42)\n",
    "X_oversampled, y_oversampled = ros.fit_resample(X, y)\n",
    "\n",
    "y_oversampled.value_counts()"
   ]
  },
  {
   "cell_type": "code",
   "execution_count": 78,
   "id": "0525b495",
   "metadata": {},
   "outputs": [
    {
     "data": {
      "text/plain": [
       "Target\n",
       "Dropout     794\n",
       "Enrolled    794\n",
       "Graduate    794\n",
       "Name: count, dtype: int64"
      ]
     },
     "execution_count": 78,
     "metadata": {},
     "output_type": "execute_result"
    }
   ],
   "source": [
    "ros = RandomUnderSampler(random_state=42)\n",
    "X_undersampled, y_undersampled = ros.fit_resample(X, y)\n",
    "\n",
    "y_undersampled.value_counts()"
   ]
  },
  {
   "cell_type": "code",
   "execution_count": 79,
   "id": "921530ed",
   "metadata": {},
   "outputs": [],
   "source": [
    "numerical_column_names = X.select_dtypes(include=[\"number\"]).columns.tolist()\n",
    "categorical_column_names = X.select_dtypes(include=[\"object\"]).columns.tolist()\n",
    "\n",
    "model = RandomForestClassifier(random_state=6, max_depth=None, n_estimators=300)\n",
    "\n",
    "pipeline = Pipeline([\n",
    "    (\"preprocessing\", get_preprocessor(numerical_column_names, categorical_column_names)),\n",
    "    (\"classifier\", model)\n",
    "])"
   ]
  },
  {
   "cell_type": "code",
   "execution_count": 80,
   "id": "5af8b15c",
   "metadata": {},
   "outputs": [
    {
     "name": "stdout",
     "output_type": "stream",
     "text": [
      "              precision    recall  f1-score   support\n",
      "\n",
      "     Dropout       0.81      0.75      0.78       288\n",
      "    Enrolled       0.57      0.32      0.41       154\n",
      "    Graduate       0.78      0.93      0.85       443\n",
      "\n",
      "    accuracy                           0.76       885\n",
      "   macro avg       0.72      0.67      0.68       885\n",
      "weighted avg       0.75      0.76      0.75       885\n",
      "\n",
      "\n",
      "Total\n",
      "\tPrecision: 0.750\n",
      "\tRecall:    0.765\n",
      "\tF1-score:  0.748\n"
     ]
    }
   ],
   "source": [
    "X_train, X_test, y_train, y_test = train_test_split(X, y, test_size=0.2, random_state=6)\n",
    "\n",
    "pipeline.fit(X_train, y_train)\n",
    "y_pred = pipeline.predict(X_test)\n",
    "\n",
    "print(classification_report(y_test, y_pred))\n",
    "\n",
    "print(\"\\nTotal\")\n",
    "print(f\"\\tPrecision: {precision_score(y_test, y_pred, average='weighted'):.3f}\")\n",
    "print(f\"\\tRecall:    {recall_score(y_test, y_pred, average='weighted'):.3f}\")\n",
    "print(f\"\\tF1-score:  {f1_score(y_test, y_pred, average='weighted'):.3f}\")"
   ]
  },
  {
   "cell_type": "code",
   "execution_count": 81,
   "id": "4984206f",
   "metadata": {},
   "outputs": [
    {
     "name": "stdout",
     "output_type": "stream",
     "text": [
      "              precision    recall  f1-score   support\n",
      "\n",
      "     Dropout       0.94      0.87      0.90       441\n",
      "    Enrolled       0.89      0.97      0.93       433\n",
      "    Graduate       0.92      0.91      0.91       452\n",
      "\n",
      "    accuracy                           0.91      1326\n",
      "   macro avg       0.92      0.92      0.91      1326\n",
      "weighted avg       0.92      0.91      0.91      1326\n",
      "\n",
      "\n",
      "Total\n",
      "\tPrecision: 0.916\n",
      "\tRecall:    0.915\n",
      "\tF1-score:  0.914\n"
     ]
    }
   ],
   "source": [
    "X_oversampled_train, X_oversampled_test, y_oversampled_train, y_oversampled_test = train_test_split(\n",
    "    X_oversampled, y_oversampled, test_size=0.2, random_state=6\n",
    ")\n",
    "\n",
    "pipeline.fit(X_oversampled_train, y_oversampled_train)\n",
    "y__oversampled_pred = pipeline.predict(X_oversampled_test)\n",
    "\n",
    "print(classification_report(y_oversampled_test, y__oversampled_pred))\n",
    "\n",
    "print(\"\\nTotal\")\n",
    "print(f\"\\tPrecision: {precision_score(y_oversampled_test, y__oversampled_pred, average='weighted'):.3f}\")\n",
    "print(f\"\\tRecall:    {recall_score(y_oversampled_test, y__oversampled_pred, average='weighted'):.3f}\")\n",
    "print(f\"\\tF1-score:  {f1_score(y_oversampled_test, y__oversampled_pred, average='weighted'):.3f}\")"
   ]
  },
  {
   "cell_type": "code",
   "execution_count": 82,
   "id": "d2b6290e",
   "metadata": {},
   "outputs": [
    {
     "name": "stdout",
     "output_type": "stream",
     "text": [
      "              precision    recall  f1-score   support\n",
      "\n",
      "     Dropout       0.74      0.75      0.75       140\n",
      "    Enrolled       0.73      0.61      0.67       178\n",
      "    Graduate       0.72      0.85      0.78       159\n",
      "\n",
      "    accuracy                           0.73       477\n",
      "   macro avg       0.73      0.74      0.73       477\n",
      "weighted avg       0.73      0.73      0.73       477\n",
      "\n",
      "\n",
      "Total\n",
      "\tPrecision: 0.732\n",
      "\tRecall:    0.732\n",
      "\tF1-score:  0.728\n"
     ]
    }
   ],
   "source": [
    "X_undersampled_train, X_undersampled_test, y_undersampled_train, y_undersampled_test = train_test_split(\n",
    "    X_undersampled, y_undersampled, test_size=0.2, random_state=6\n",
    ")\n",
    "\n",
    "pipeline.fit(X_undersampled_train, y_undersampled_train)\n",
    "y_undersampled_pred = pipeline.predict(X_undersampled_test)\n",
    "\n",
    "print(classification_report(y_undersampled_test, y_undersampled_pred))\n",
    "\n",
    "print(\"\\nTotal\")\n",
    "print(f\"\\tPrecision: {precision_score(y_undersampled_test, y_undersampled_pred, average='weighted'):.3f}\")\n",
    "print(f\"\\tRecall:    {recall_score(y_undersampled_test, y_undersampled_pred, average='weighted'):.3f}\")\n",
    "print(f\"\\tF1-score:  {f1_score(y_undersampled_test, y_undersampled_pred, average='weighted'):.3f}\")"
   ]
  }
 ],
 "metadata": {
  "kernelspec": {
   "display_name": "msid3",
   "language": "python",
   "name": "python3"
  },
  "language_info": {
   "codemirror_mode": {
    "name": "ipython",
    "version": 3
   },
   "file_extension": ".py",
   "mimetype": "text/x-python",
   "name": "python",
   "nbconvert_exporter": "python",
   "pygments_lexer": "ipython3",
   "version": "3.11.11"
  }
 },
 "nbformat": 4,
 "nbformat_minor": 5
}
