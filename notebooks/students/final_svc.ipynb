{
 "cells": [
  {
   "cell_type": "code",
   "execution_count": 7,
   "id": "825c7476",
   "metadata": {},
   "outputs": [],
   "source": [
    "# set up working catalog\n",
    "import sys\n",
    "from pathlib import Path\n",
    "project_path = str(Path().cwd().parent.parent.resolve())\n",
    "if project_path not in sys.path:\n",
    "    sys.path.append(project_path)\n",
    "    \n",
    "import warnings\n",
    "warnings.filterwarnings(\"ignore\")\n",
    "\n",
    "# imports\n",
    "from common.utils import get_datasets, X_TRAIN, Y_TRAIN, X_TEST, Y_TEST\n",
    "\n",
    "from sklearn.svm import SVC\n",
    "from sklearn.model_selection import GridSearchCV"
   ]
  },
  {
   "cell_type": "code",
   "execution_count": 8,
   "id": "4406247b",
   "metadata": {},
   "outputs": [],
   "source": [
    "datasets = get_datasets()"
   ]
  },
  {
   "cell_type": "code",
   "execution_count": 9,
   "id": "bd9ab39c",
   "metadata": {},
   "outputs": [
    {
     "name": "stdout",
     "output_type": "stream",
     "text": [
      "Best params: {'C': 1, 'gamma': 'scale', 'kernel': 'rbf'}\n",
      "Train accuracy: 0.8365547643268905\n",
      "Test accuracy: 0.7694915254237288\n",
      "\n",
      "Best params: {'C': 10, 'gamma': 'auto', 'kernel': 'rbf'}\n",
      "Train accuracy: 0.8355374703289251\n",
      "Test accuracy: 0.7627118644067796\n",
      "\n",
      "Best params: {'C': 10, 'gamma': 'auto', 'kernel': 'rbf'}\n",
      "Train accuracy: 0.8071186440677967\n",
      "Test accuracy: 0.7896879240162822\n",
      "\n"
     ]
    }
   ],
   "source": [
    "model = SVC()\n",
    "\n",
    "param_grid = [\n",
    "    {\n",
    "        \"C\": [0.1, 1, 10],\n",
    "        \"kernel\": [\"linear\", \"rbf\"],\n",
    "        \"gamma\": [\"scale\", \"auto\"]\n",
    "    },\n",
    "    {\n",
    "        \"C\": [0.1, 1, 10],\n",
    "        \"kernel\": [\"poly\"],\n",
    "        \"gamma\": [\"scale\", \"auto\"],\n",
    "        \"degree\": [2, 3, 4]\n",
    "    }\n",
    "]\n",
    "\n",
    "grid = GridSearchCV(model, param_grid, cv=5, scoring=\"accuracy\", n_jobs=-1)\n",
    "\n",
    "for dataset in datasets:\n",
    "    grid.fit(dataset[X_TRAIN], dataset[Y_TRAIN])\n",
    "    \n",
    "    print(f\"Best params: {grid.best_params_}\")\n",
    "    print(f\"Train accuracy: {grid.score(dataset[X_TRAIN], dataset[Y_TRAIN])}\")\n",
    "    print(f\"Test accuracy: {grid.score(dataset[X_TEST], dataset[Y_TEST])}\")\n",
    "    print()"
   ]
  }
 ],
 "metadata": {
  "kernelspec": {
   "display_name": "msid3",
   "language": "python",
   "name": "python3"
  },
  "language_info": {
   "codemirror_mode": {
    "name": "ipython",
    "version": 3
   },
   "file_extension": ".py",
   "mimetype": "text/x-python",
   "name": "python",
   "nbconvert_exporter": "python",
   "pygments_lexer": "ipython3",
   "version": "3.11.11"
  }
 },
 "nbformat": 4,
 "nbformat_minor": 5
}
