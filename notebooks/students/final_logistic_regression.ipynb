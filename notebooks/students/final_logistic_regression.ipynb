{
 "cells": [
  {
   "cell_type": "code",
   "execution_count": 1,
   "id": "1b1d9f3d",
   "metadata": {},
   "outputs": [],
   "source": [
    "# set up working catalog\n",
    "import sys\n",
    "from pathlib import Path\n",
    "project_path = str(Path().cwd().parent.parent.resolve())\n",
    "if project_path not in sys.path:\n",
    "    sys.path.append(project_path)\n",
    "\n",
    "# imports\n",
    "from common.utils import get_datasets, X_TRAIN, Y_TRAIN, X_TEST, Y_TEST\n",
    "\n",
    "from sklearn.pipeline import Pipeline\n",
    "from sklearn.preprocessing import PolynomialFeatures\n",
    "from sklearn.linear_model import LogisticRegression\n",
    "from sklearn.model_selection import GridSearchCV"
   ]
  },
  {
   "cell_type": "code",
   "execution_count": 2,
   "id": "4292dae2",
   "metadata": {},
   "outputs": [],
   "source": [
    "datasets = get_datasets()"
   ]
  },
  {
   "cell_type": "code",
   "execution_count": 3,
   "id": "c35bd018",
   "metadata": {},
   "outputs": [
    {
     "name": "stdout",
     "output_type": "stream",
     "text": [
      "Best params: {'clf__C': 1, 'clf__max_iter': 200, 'clf__penalty': 'l1', 'clf__solver': 'liblinear', 'poly__degree': 1}\n",
      "Train accuracy: 0.8023058663953883\n",
      "Test accuracy: 0.7803389830508475\n",
      "\n",
      "Best params: {'clf__C': 1, 'clf__max_iter': 200, 'clf__penalty': 'l2', 'clf__solver': 'liblinear', 'poly__degree': 1}\n",
      "Train accuracy: 0.800949474398101\n",
      "Test accuracy: 0.7783050847457628\n",
      "\n",
      "Best params: {'clf__C': 1, 'clf__max_iter': 400, 'clf__penalty': 'l1', 'clf__solver': 'liblinear', 'poly__degree': 1}\n",
      "Train accuracy: 0.8016949152542373\n",
      "Test accuracy: 0.7659430122116689\n",
      "\n"
     ]
    }
   ],
   "source": [
    "pipeline = Pipeline([\n",
    "    (\"poly\", PolynomialFeatures(include_bias=False)), \n",
    "    (\"clf\", LogisticRegression())\n",
    "])\n",
    "\n",
    "param_grid = [\n",
    "    {\n",
    "        \"poly__degree\": [1, 2],\n",
    "        \"clf__penalty\": [\"l1\", \"l2\"],\n",
    "        \"clf__C\": [0.1, 1],\n",
    "        \"clf__solver\": [\"liblinear\"],\n",
    "        \"clf__max_iter\": [200, 400, 600]\n",
    "    },\n",
    "    {\n",
    "        \"poly__degree\": [1, 2],\n",
    "        \"clf__penalty\": [None],\n",
    "        \"clf__C\": [0.1, 1],\n",
    "        \"clf__solver\": [\"lbfgs\"],\n",
    "        \"clf__max_iter\": [200, 400, 600]\n",
    "    }\n",
    "]\n",
    "\n",
    "grid = GridSearchCV(pipeline, param_grid, cv=5, scoring=\"accuracy\", n_jobs=-1)\n",
    "\n",
    "for dataset in datasets:\n",
    "    grid.fit(dataset[X_TRAIN], dataset[Y_TRAIN])\n",
    "    \n",
    "    print(f\"Best params: {grid.best_params_}\")\n",
    "    print(f\"Train accuracy: {grid.score(dataset[X_TRAIN], dataset[Y_TRAIN])}\")\n",
    "    print(f\"Test accuracy: {grid.score(dataset[X_TEST], dataset[Y_TEST])}\")\n",
    "    print()\n",
    "    "
   ]
  }
 ],
 "metadata": {
  "kernelspec": {
   "display_name": "msid3",
   "language": "python",
   "name": "python3"
  },
  "language_info": {
   "codemirror_mode": {
    "name": "ipython",
    "version": 3
   },
   "file_extension": ".py",
   "mimetype": "text/x-python",
   "name": "python",
   "nbconvert_exporter": "python",
   "pygments_lexer": "ipython3",
   "version": "3.11.11"
  }
 },
 "nbformat": 4,
 "nbformat_minor": 5
}
