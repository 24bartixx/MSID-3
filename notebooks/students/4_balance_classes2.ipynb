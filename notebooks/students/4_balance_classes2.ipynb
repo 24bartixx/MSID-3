{
 "cells": [
  {
   "cell_type": "code",
   "execution_count": 67,
   "id": "7cdf85bc",
   "metadata": {},
   "outputs": [],
   "source": [
    "# set up working catalog\n",
    "import sys\n",
    "from pathlib import Path\n",
    "project_path = str(Path().cwd().parent.parent.resolve())\n",
    "if project_path not in sys.path:\n",
    "    sys.path.append(project_path)\n",
    "    \n",
    "# imports\n",
    "from common.utils import get_data, get_preprocessor\n",
    "\n",
    "from imblearn.over_sampling import RandomOverSampler\n",
    "from imblearn.under_sampling import RandomUnderSampler\n",
    "from sklearn.pipeline import Pipeline\n",
    "from sklearn.ensemble import RandomForestClassifier\n",
    "from sklearn.model_selection import train_test_split\n",
    "from sklearn.metrics import classification_report, accuracy_score, precision_score, recall_score, f1_score"
   ]
  },
  {
   "cell_type": "code",
   "execution_count": 68,
   "id": "93bef715",
   "metadata": {},
   "outputs": [],
   "source": [
    "data = get_data()\n",
    "\n",
    "X = data.drop(columns=[\"Target\"])\n",
    "y = data[\"Target\"]\n",
    "\n",
    "X_train, X_test, y_train, y_test = train_test_split(X, y, test_size=0.2, random_state=6)\n",
    "\n",
    "numerical_column_names = X.select_dtypes(include=[\"number\"]).columns.tolist()\n",
    "categorical_column_names = X.select_dtypes(include=[\"object\"]).columns.tolist()\n",
    "\n",
    "model = RandomForestClassifier(random_state=6, max_depth=None, n_estimators=300)\n",
    "\n",
    "pipeline = Pipeline([\n",
    "    (\"preprocessing\", get_preprocessor(numerical_column_names, categorical_column_names)),\n",
    "    (\"classifier\", model)\n",
    "])"
   ]
  },
  {
   "cell_type": "code",
   "execution_count": 69,
   "id": "5dbad850",
   "metadata": {},
   "outputs": [],
   "source": [
    "def train_and_pred(pipeline, X_train, y_train):\n",
    "    print(y_train.value_counts())\n",
    "    print()\n",
    "    \n",
    "    pipeline.fit(X_train, y_train)\n",
    "    y_pred_oversampled = pipeline.predict(X_test)\n",
    "\n",
    "    print(\"Classification report\")\n",
    "    print(classification_report(y_test, y_pred_oversampled))\n",
    "\n",
    "    print(\"\\nTotal\")\n",
    "    print(f\"\\tAccuracy:  {accuracy_score(y_test, y_pred_oversampled):.3f}\")\n",
    "    print(f\"\\tPrecision: {precision_score(y_test, y_pred_oversampled, average='weighted'):.3f}\")\n",
    "    print(f\"\\tRecall:    {recall_score(y_test, y_pred_oversampled, average='weighted'):.3f}\")\n",
    "    print(f\"\\tF1-score:  {f1_score(y_test, y_pred_oversampled, average='weighted'):.3f}\")"
   ]
  },
  {
   "cell_type": "code",
   "execution_count": 70,
   "id": "5af8b15c",
   "metadata": {},
   "outputs": [
    {
     "name": "stdout",
     "output_type": "stream",
     "text": [
      "Target\n",
      "Graduate    1766\n",
      "Dropout     1133\n",
      "Enrolled     640\n",
      "Name: count, dtype: int64\n",
      "\n",
      "Classification report\n",
      "              precision    recall  f1-score   support\n",
      "\n",
      "     Dropout       0.81      0.75      0.78       288\n",
      "    Enrolled       0.57      0.32      0.41       154\n",
      "    Graduate       0.78      0.93      0.85       443\n",
      "\n",
      "    accuracy                           0.76       885\n",
      "   macro avg       0.72      0.67      0.68       885\n",
      "weighted avg       0.75      0.76      0.75       885\n",
      "\n",
      "\n",
      "Total\n",
      "\tAccuracy:  0.765\n",
      "\tPrecision: 0.750\n",
      "\tRecall:    0.765\n",
      "\tF1-score:  0.748\n"
     ]
    }
   ],
   "source": [
    "train_and_pred(pipeline, X_train, y_train)"
   ]
  },
  {
   "cell_type": "code",
   "execution_count": 71,
   "id": "4984206f",
   "metadata": {},
   "outputs": [
    {
     "name": "stdout",
     "output_type": "stream",
     "text": [
      "Target\n",
      "Graduate    1766\n",
      "Dropout     1766\n",
      "Enrolled    1766\n",
      "Name: count, dtype: int64\n",
      "\n",
      "Classification report\n",
      "              precision    recall  f1-score   support\n",
      "\n",
      "     Dropout       0.82      0.74      0.78       288\n",
      "    Enrolled       0.52      0.47      0.49       154\n",
      "    Graduate       0.81      0.88      0.84       443\n",
      "\n",
      "    accuracy                           0.77       885\n",
      "   macro avg       0.72      0.70      0.71       885\n",
      "weighted avg       0.76      0.77      0.76       885\n",
      "\n",
      "\n",
      "Total\n",
      "\tAccuracy:  0.766\n",
      "\tPrecision: 0.761\n",
      "\tRecall:    0.766\n",
      "\tF1-score:  0.762\n"
     ]
    }
   ],
   "source": [
    "ros = RandomOverSampler(random_state=16)\n",
    "X_oversampled, y_oversampled = ros.fit_resample(X_train, y_train)\n",
    "\n",
    "train_and_pred(pipeline, X_oversampled, y_oversampled)"
   ]
  },
  {
   "cell_type": "code",
   "execution_count": 72,
   "id": "d2b6290e",
   "metadata": {},
   "outputs": [
    {
     "name": "stdout",
     "output_type": "stream",
     "text": [
      "Target\n",
      "Dropout     640\n",
      "Enrolled    640\n",
      "Graduate    640\n",
      "Name: count, dtype: int64\n",
      "\n",
      "Classification report\n",
      "              precision    recall  f1-score   support\n",
      "\n",
      "     Dropout       0.84      0.70      0.76       288\n",
      "    Enrolled       0.43      0.71      0.53       154\n",
      "    Graduate       0.86      0.76      0.81       443\n",
      "\n",
      "    accuracy                           0.73       885\n",
      "   macro avg       0.71      0.72      0.70       885\n",
      "weighted avg       0.78      0.73      0.75       885\n",
      "\n",
      "\n",
      "Total\n",
      "\tAccuracy:  0.732\n",
      "\tPrecision: 0.780\n",
      "\tRecall:    0.732\n",
      "\tF1-score:  0.746\n"
     ]
    }
   ],
   "source": [
    "rus = RandomUnderSampler(random_state=16)\n",
    "X_undersampled, y_undersampled = rus.fit_resample(X_train, y_train)\n",
    "\n",
    "train_and_pred(pipeline, X_undersampled, y_undersampled)"
   ]
  }
 ],
 "metadata": {
  "kernelspec": {
   "display_name": "msid3",
   "language": "python",
   "name": "python3"
  },
  "language_info": {
   "codemirror_mode": {
    "name": "ipython",
    "version": 3
   },
   "file_extension": ".py",
   "mimetype": "text/x-python",
   "name": "python",
   "nbconvert_exporter": "python",
   "pygments_lexer": "ipython3",
   "version": "3.11.11"
  }
 },
 "nbformat": 4,
 "nbformat_minor": 5
}
