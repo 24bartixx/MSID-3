{
 "cells": [
  {
   "cell_type": "code",
   "execution_count": 40,
   "id": "4b117c79",
   "metadata": {},
   "outputs": [],
   "source": [
    "# set up working catalog\n",
    "import sys\n",
    "from pathlib import Path\n",
    "sys.path.append(str(Path(\"..\")))\n",
    "\n",
    "# imports\n",
    "from common.consts import DATA_PATH\n",
    "from common.utils import get_numeric_data\n",
    "from common.custom_linear_regression import CustomLinearRegression\n",
    "\n",
    "import pandas as pd\n",
    "\n",
    "from sklearn.preprocessing import StandardScaler\n",
    "from sklearn.model_selection import KFold\n",
    "from sklearn.ensemble import RandomForestClassifier\n",
    "from sklearn.metrics import mean_squared_error, mean_absolute_error, r2_score"
   ]
  },
  {
   "cell_type": "code",
   "execution_count": 41,
   "id": "da2d88c7",
   "metadata": {},
   "outputs": [],
   "source": [
    "data = get_numeric_data()\n",
    "\n",
    "X = data.drop(\"Admission grade\", axis=1)\n",
    "y = data[\"Admission grade\"]\n",
    "\n",
    "X = StandardScaler().fit_transform(X) "
   ]
  },
  {
   "cell_type": "code",
   "execution_count": 42,
   "id": "04bf81e4",
   "metadata": {},
   "outputs": [
    {
     "name": "stdout",
     "output_type": "stream",
     "text": [
      "Numer of splits: 3\n"
     ]
    }
   ],
   "source": [
    "kfold = KFold(n_splits=3, shuffle=True, random_state=6)\n",
    "print(\"Numer of splits:\", kfold.get_n_splits(X))"
   ]
  },
  {
   "cell_type": "code",
   "execution_count": 43,
   "id": "c8a1d829",
   "metadata": {},
   "outputs": [
    {
     "name": "stdout",
     "output_type": "stream",
     "text": [
      "\t===== FOLD 1 =====\n",
      "Close form\n",
      "\tMSE: 136.0730718554674\n",
      "\tMAE: 8.250195483548268\n",
      "\tR2: 0.3343825961488184\n",
      "Gradient descent\n",
      "\tMSE: 135.8775963840628\n",
      "\tMAE: 8.240171649313002\n",
      "\tR2: 0.3353387873629853\n",
      "\n",
      "\t===== FOLD 2 =====\n",
      "Close form\n",
      "\tMSE: 142.7706339001175\n",
      "\tMAE: 8.43368280123414\n",
      "\tR2: 0.3540815586161785\n",
      "Gradient descent\n",
      "\tMSE: 142.90765833117825\n",
      "\tMAE: 8.436312488947074\n",
      "\tR2: 0.35346163696615496\n",
      "\n",
      "\t===== FOLD 3 =====\n",
      "Close form\n",
      "\tMSE: 127.49775931360539\n",
      "\tMAE: 7.97309608742398\n",
      "\tR2: 0.3722983204666459\n",
      "Gradient descent\n",
      "\tMSE: 127.23944573169494\n",
      "\tMAE: 7.967027986731054\n",
      "\tR2: 0.3735700594374669\n",
      "\n"
     ]
    }
   ],
   "source": [
    "# best = (None, 0)\n",
    "model = CustomLinearRegression()\n",
    "close_form_rows = []\n",
    "gradient_descent_rows = []\n",
    "\n",
    "for i, (train_index, test_index) in enumerate(kfold.split(X, y), 1):\n",
    "    X_train = X[train_index]\n",
    "    y_train = y.iloc[train_index]\n",
    "    \n",
    "    X_val = X[test_index]\n",
    "    y_val = y.iloc[test_index]\n",
    "    \n",
    "    model.fit_closed_form(X_train, y_train)\n",
    "    y_pred = model.predict(X_val)\n",
    "    \n",
    "    mse = mean_squared_error(y_val, y_pred)\n",
    "    mae = mean_absolute_error(y_val, y_pred)\n",
    "    r2 = r2_score(y_val, y_pred)\n",
    "    \n",
    "    close_form_rows.append([mse, mae, r2])\n",
    "    \n",
    "    print(f\"\\t===== FOLD {i} =====\")\n",
    "    \n",
    "    print(\"Close form\")\n",
    "    print(f\"\\tMSE: {mse}\")\n",
    "    print(f\"\\tMAE: {mae}\")\n",
    "    print(f\"\\tR2: {r2}\")\n",
    "    \n",
    "    model.fit_gradient_descent(X_train, y_train)\n",
    "    y_pred = model.predict(X_val)\n",
    "    \n",
    "    mse = mean_squared_error(y_val, y_pred)\n",
    "    mae = mean_absolute_error(y_val, y_pred)\n",
    "    r2 = r2_score(y_val, y_pred)\n",
    "    \n",
    "    gradient_descent_rows.append([mse, mae, r2])\n",
    "    \n",
    "    print(\"Gradient descent\")\n",
    "    print(f\"\\tMSE: {mse}\")\n",
    "    print(f\"\\tMAE: {mae}\")\n",
    "    print(f\"\\tR2: {r2}\")\n",
    "    print()"
   ]
  },
  {
   "cell_type": "code",
   "execution_count": 44,
   "id": "a1d45132",
   "metadata": {},
   "outputs": [
    {
     "data": {
      "text/html": [
       "<div>\n",
       "<style scoped>\n",
       "    .dataframe tbody tr th:only-of-type {\n",
       "        vertical-align: middle;\n",
       "    }\n",
       "\n",
       "    .dataframe tbody tr th {\n",
       "        vertical-align: top;\n",
       "    }\n",
       "\n",
       "    .dataframe thead th {\n",
       "        text-align: right;\n",
       "    }\n",
       "</style>\n",
       "<table border=\"1\" class=\"dataframe\">\n",
       "  <thead>\n",
       "    <tr style=\"text-align: right;\">\n",
       "      <th></th>\n",
       "      <th>MSE</th>\n",
       "      <th>MAE</th>\n",
       "      <th>R2</th>\n",
       "    </tr>\n",
       "  </thead>\n",
       "  <tbody>\n",
       "    <tr>\n",
       "      <th>0</th>\n",
       "      <td>136.073072</td>\n",
       "      <td>8.250195</td>\n",
       "      <td>0.334383</td>\n",
       "    </tr>\n",
       "    <tr>\n",
       "      <th>1</th>\n",
       "      <td>142.770634</td>\n",
       "      <td>8.433683</td>\n",
       "      <td>0.354082</td>\n",
       "    </tr>\n",
       "    <tr>\n",
       "      <th>2</th>\n",
       "      <td>127.497759</td>\n",
       "      <td>7.973096</td>\n",
       "      <td>0.372298</td>\n",
       "    </tr>\n",
       "  </tbody>\n",
       "</table>\n",
       "</div>"
      ],
      "text/plain": [
       "          MSE       MAE        R2\n",
       "0  136.073072  8.250195  0.334383\n",
       "1  142.770634  8.433683  0.354082\n",
       "2  127.497759  7.973096  0.372298"
      ]
     },
     "execution_count": 44,
     "metadata": {},
     "output_type": "execute_result"
    }
   ],
   "source": [
    "df_close_form = pd.DataFrame(close_form_rows, columns=[\"MSE\", \"MAE\", \"R2\"])\n",
    "df_close_form"
   ]
  },
  {
   "cell_type": "code",
   "execution_count": 46,
   "id": "147b93ab",
   "metadata": {},
   "outputs": [
    {
     "data": {
      "text/html": [
       "<div>\n",
       "<style scoped>\n",
       "    .dataframe tbody tr th:only-of-type {\n",
       "        vertical-align: middle;\n",
       "    }\n",
       "\n",
       "    .dataframe tbody tr th {\n",
       "        vertical-align: top;\n",
       "    }\n",
       "\n",
       "    .dataframe thead th {\n",
       "        text-align: right;\n",
       "    }\n",
       "</style>\n",
       "<table border=\"1\" class=\"dataframe\">\n",
       "  <thead>\n",
       "    <tr style=\"text-align: right;\">\n",
       "      <th></th>\n",
       "      <th>MSE</th>\n",
       "      <th>MAE</th>\n",
       "      <th>R2</th>\n",
       "    </tr>\n",
       "  </thead>\n",
       "  <tbody>\n",
       "    <tr>\n",
       "      <th>0</th>\n",
       "      <td>135.877596</td>\n",
       "      <td>8.240172</td>\n",
       "      <td>0.335339</td>\n",
       "    </tr>\n",
       "    <tr>\n",
       "      <th>1</th>\n",
       "      <td>142.907658</td>\n",
       "      <td>8.436312</td>\n",
       "      <td>0.353462</td>\n",
       "    </tr>\n",
       "    <tr>\n",
       "      <th>2</th>\n",
       "      <td>127.239446</td>\n",
       "      <td>7.967028</td>\n",
       "      <td>0.373570</td>\n",
       "    </tr>\n",
       "  </tbody>\n",
       "</table>\n",
       "</div>"
      ],
      "text/plain": [
       "          MSE       MAE        R2\n",
       "0  135.877596  8.240172  0.335339\n",
       "1  142.907658  8.436312  0.353462\n",
       "2  127.239446  7.967028  0.373570"
      ]
     },
     "execution_count": 46,
     "metadata": {},
     "output_type": "execute_result"
    }
   ],
   "source": [
    "df_gradeint_descent = pd.DataFrame(gradient_descent_rows, columns=[\"MSE\", \"MAE\", \"R2\"])\n",
    "df_gradeint_descent"
   ]
  }
 ],
 "metadata": {
  "kernelspec": {
   "display_name": "msid3",
   "language": "python",
   "name": "python3"
  },
  "language_info": {
   "codemirror_mode": {
    "name": "ipython",
    "version": 3
   },
   "file_extension": ".py",
   "mimetype": "text/x-python",
   "name": "python",
   "nbconvert_exporter": "python",
   "pygments_lexer": "ipython3",
   "version": "3.11.11"
  }
 },
 "nbformat": 4,
 "nbformat_minor": 5
}
